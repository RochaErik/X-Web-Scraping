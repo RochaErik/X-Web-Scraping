{
 "cells": [
  {
   "cell_type": "markdown",
   "metadata": {},
   "source": [
    "## **Web Scraping with Request and BeautifulSoup**"
   ]
  },
  {
   "cell_type": "markdown",
   "metadata": {},
   "source": [
    "Before we start performing web scraping on any website, it is important to note that a lot of websites do not allow webscraping on their website, and many companies takes it as illegal and sue businesses and individuals for that, so be careful to check their Privacy policies before scraping any website.\n",
    "\n",
    "Now, if you know the website you want to extract information from, what you need to do is to first examine the website to understand the structure and layout of the website."
   ]
  },
  {
   "cell_type": "code",
   "execution_count": null,
   "metadata": {},
   "outputs": [],
   "source": [
    "# !pip install requests "
   ]
  },
  {
   "cell_type": "code",
   "execution_count": null,
   "metadata": {},
   "outputs": [],
   "source": [
    "# !pip install bs4"
   ]
  },
  {
   "cell_type": "code",
   "execution_count": 2,
   "metadata": {},
   "outputs": [],
   "source": [
    "import pandas as pd\n",
    "import requests \n",
    "import bs4 "
   ]
  },
  {
   "cell_type": "code",
   "execution_count": null,
   "metadata": {},
   "outputs": [],
   "source": [
    "data = requests.get('https://en.wikipedia.org/wiki/Artificial_intelligence')"
   ]
  },
  {
   "cell_type": "code",
   "execution_count": null,
   "metadata": {},
   "outputs": [],
   "source": [
    "# Page source code\n",
    "\n",
    "data.text"
   ]
  },
  {
   "cell_type": "code",
   "execution_count": null,
   "metadata": {},
   "outputs": [],
   "source": [
    "# To parse the data\n",
    "\n",
    "parsed = bs4.BeautifulSoup(data.text, 'lxml')"
   ]
  },
  {
   "cell_type": "code",
   "execution_count": null,
   "metadata": {},
   "outputs": [],
   "source": [
    "parsed"
   ]
  },
  {
   "cell_type": "code",
   "execution_count": null,
   "metadata": {},
   "outputs": [],
   "source": [
    "# To select the HTML tags of the page - e.g.: 'h2'\n",
    "\n",
    "titles = parsed.select('h2')"
   ]
  },
  {
   "cell_type": "code",
   "execution_count": null,
   "metadata": {},
   "outputs": [],
   "source": [
    "titles[0].getText()"
   ]
  },
  {
   "cell_type": "code",
   "execution_count": null,
   "metadata": {},
   "outputs": [],
   "source": [
    "# To obtain the titles for each 'h2'\n",
    "\n",
    "for i in titles:\n",
    "    print(i.text)"
   ]
  },
  {
   "cell_type": "code",
   "execution_count": null,
   "metadata": {},
   "outputs": [],
   "source": [
    "# To obtain the images of the page\n",
    "\n",
    "images = parsed.select('img')"
   ]
  },
  {
   "cell_type": "markdown",
   "metadata": {},
   "source": [
    "## **Web Scraping at Books to scrape**"
   ]
  },
  {
   "cell_type": "markdown",
   "metadata": {},
   "source": [
    "Source: http://books.toscrape.com/index.html"
   ]
  },
  {
   "cell_type": "code",
   "execution_count": 28,
   "metadata": {},
   "outputs": [],
   "source": [
    "# Creating an empty list for each item we want\n",
    "\n",
    "pages = []\n",
    "prices = []\n",
    "ratings = []\n",
    "title = []\n",
    "urls = []"
   ]
  },
  {
   "cell_type": "code",
   "execution_count": 29,
   "metadata": {},
   "outputs": [],
   "source": [
    "# Set the number of pages we gonna scrap\n",
    "\n",
    "n_pages = 1"
   ]
  },
  {
   "cell_type": "code",
   "execution_count": 30,
   "metadata": {},
   "outputs": [
    {
     "name": "stdout",
     "output_type": "stream",
     "text": [
      "Number of pages: 1\n",
      "['http://books.toscrape.com/catalogue/page-1.html']\n"
     ]
    }
   ],
   "source": [
    "# Looping through the pages\n",
    "\n",
    "for i in range(1, n_pages + 1):\n",
    "    url = ('http://books.toscrape.com/catalogue/page-{}.html'.format(i))\n",
    "    pages.append(url)\n",
    "\n",
    "print('Number of pages:', len(pages))\n",
    "print(pages)    "
   ]
  },
  {
   "cell_type": "markdown",
   "metadata": {},
   "source": [
    "Getting the data from the particular page url and converting from object of type **request** to object of type **beautiful soup**, making it more readable"
   ]
  },
  {
   "cell_type": "code",
   "execution_count": 31,
   "metadata": {},
   "outputs": [],
   "source": [
    "for item in pages:\n",
    "    page = requests.get(item)\n",
    "    soup = bs4.BeautifulSoup(page.text, 'html.parser')"
   ]
  },
  {
   "cell_type": "code",
   "execution_count": 32,
   "metadata": {},
   "outputs": [],
   "source": [
    "# print(soup)"
   ]
  },
  {
   "cell_type": "code",
   "execution_count": 33,
   "metadata": {},
   "outputs": [],
   "source": [
    "# In an actual html tag, it includes indentations and nested tags that helps you to identify the actual relationship between tags and so forth.\n",
    "# In order to get that identation and relationship here, we have to use what is called 'prettify()'.\n",
    "# 'prettify()' is a built-in function provided by the Beautiful Soup module which gives the visual representation of the parsed URL Source code.\n",
    "# i.e. it arranges all the tags in a parse-tree manner with better readability.\n",
    "\n",
    "# print(soup.prettify())"
   ]
  },
  {
   "cell_type": "markdown",
   "metadata": {},
   "source": [
    "## Scraping all the titles"
   ]
  },
  {
   "cell_type": "code",
   "execution_count": 34,
   "metadata": {},
   "outputs": [
    {
     "name": "stdout",
     "output_type": "stream",
     "text": [
      "<h3><a href=\"a-light-in-the-attic_1000/index.html\" title=\"A Light in the Attic\">A Light in the ...</a></h3>\n",
      "<h3><a href=\"tipping-the-velvet_999/index.html\" title=\"Tipping the Velvet\">Tipping the Velvet</a></h3>\n",
      "<h3><a href=\"soumission_998/index.html\" title=\"Soumission\">Soumission</a></h3>\n",
      "<h3><a href=\"sharp-objects_997/index.html\" title=\"Sharp Objects\">Sharp Objects</a></h3>\n",
      "<h3><a href=\"sapiens-a-brief-history-of-humankind_996/index.html\" title=\"Sapiens: A Brief History of Humankind\">Sapiens: A Brief History ...</a></h3>\n",
      "<h3><a href=\"the-requiem-red_995/index.html\" title=\"The Requiem Red\">The Requiem Red</a></h3>\n",
      "<h3><a href=\"the-dirty-little-secrets-of-getting-your-dream-job_994/index.html\" title=\"The Dirty Little Secrets of Getting Your Dream Job\">The Dirty Little Secrets ...</a></h3>\n",
      "<h3><a href=\"the-coming-woman-a-novel-based-on-the-life-of-the-infamous-feminist-victoria-woodhull_993/index.html\" title=\"The Coming Woman: A Novel Based on the Life of the Infamous Feminist, Victoria Woodhull\">The Coming Woman: A ...</a></h3>\n",
      "<h3><a href=\"the-boys-in-the-boat-nine-americans-and-their-epic-quest-for-gold-at-the-1936-berlin-olympics_992/index.html\" title=\"The Boys in the Boat: Nine Americans and Their Epic Quest for Gold at the 1936 Berlin Olympics\">The Boys in the ...</a></h3>\n",
      "<h3><a href=\"the-black-maria_991/index.html\" title=\"The Black Maria\">The Black Maria</a></h3>\n",
      "<h3><a href=\"starving-hearts-triangular-trade-trilogy-1_990/index.html\" title=\"Starving Hearts (Triangular Trade Trilogy, #1)\">Starving Hearts (Triangular Trade ...</a></h3>\n",
      "<h3><a href=\"shakespeares-sonnets_989/index.html\" title=\"Shakespeare's Sonnets\">Shakespeare's Sonnets</a></h3>\n",
      "<h3><a href=\"set-me-free_988/index.html\" title=\"Set Me Free\">Set Me Free</a></h3>\n",
      "<h3><a href=\"scott-pilgrims-precious-little-life-scott-pilgrim-1_987/index.html\" title=\"Scott Pilgrim's Precious Little Life (Scott Pilgrim #1)\">Scott Pilgrim's Precious Little ...</a></h3>\n",
      "<h3><a href=\"rip-it-up-and-start-again_986/index.html\" title=\"Rip it Up and Start Again\">Rip it Up and ...</a></h3>\n",
      "<h3><a href=\"our-band-could-be-your-life-scenes-from-the-american-indie-underground-1981-1991_985/index.html\" title=\"Our Band Could Be Your Life: Scenes from the American Indie Underground, 1981-1991\">Our Band Could Be ...</a></h3>\n",
      "<h3><a href=\"olio_984/index.html\" title=\"Olio\">Olio</a></h3>\n",
      "<h3><a href=\"mesaerion-the-best-science-fiction-stories-1800-1849_983/index.html\" title=\"Mesaerion: The Best Science Fiction Stories 1800-1849\">Mesaerion: The Best Science ...</a></h3>\n",
      "<h3><a href=\"libertarianism-for-beginners_982/index.html\" title=\"Libertarianism for Beginners\">Libertarianism for Beginners</a></h3>\n",
      "<h3><a href=\"its-only-the-himalayas_981/index.html\" title=\"It's Only the Himalayas\">It's Only the Himalayas</a></h3>\n"
     ]
    }
   ],
   "source": [
    "# If we inspect the page we can see that the titles are located inside the h3 tag\n",
    "\n",
    "for i in soup.findAll('h3'):\n",
    "    print(i)"
   ]
  },
  {
   "cell_type": "code",
   "execution_count": 35,
   "metadata": {},
   "outputs": [
    {
     "name": "stdout",
     "output_type": "stream",
     "text": [
      "['A Light in the ...', 'Tipping the Velvet', 'Soumission', 'Sharp Objects', 'Sapiens: A Brief History ...', 'The Requiem Red', 'The Dirty Little Secrets ...', 'The Coming Woman: A ...', 'The Boys in the ...', 'The Black Maria', 'Starving Hearts (Triangular Trade ...', \"Shakespeare's Sonnets\", 'Set Me Free', \"Scott Pilgrim's Precious Little ...\", 'Rip it Up and ...', 'Our Band Could Be ...', 'Olio', 'Mesaerion: The Best Science ...', 'Libertarianism for Beginners', \"It's Only the Himalayas\"]\n"
     ]
    }
   ],
   "source": [
    "# Adding to the title empty list\n",
    "\n",
    "for i in soup.findAll('h3'):\n",
    "    titles_h3 = i.getText()\n",
    "    title.append(titles_h3)\n",
    "\n",
    "print(title)   "
   ]
  },
  {
   "cell_type": "markdown",
   "metadata": {},
   "source": [
    "## Scraping all the prices"
   ]
  },
  {
   "cell_type": "code",
   "execution_count": 36,
   "metadata": {},
   "outputs": [
    {
     "name": "stdout",
     "output_type": "stream",
     "text": [
      "['Â£51.77', 'Â£53.74', 'Â£50.10', 'Â£47.82', 'Â£54.23', 'Â£22.65', 'Â£33.34', 'Â£17.93', 'Â£22.60', 'Â£52.15', 'Â£13.99', 'Â£20.66', 'Â£17.46', 'Â£52.29', 'Â£35.02', 'Â£57.25', 'Â£23.88', 'Â£37.59', 'Â£51.33', 'Â£45.17']\n"
     ]
    }
   ],
   "source": [
    "# add underscore to class (class_) in order to differentiate it from python inbuilt class\n",
    "\n",
    "for i in soup.findAll('p', class_='price_color'):\n",
    "    prices_p = i.getText()\n",
    "    prices.append(prices_p)\n",
    "\n",
    "print(prices)   "
   ]
  },
  {
   "cell_type": "markdown",
   "metadata": {},
   "source": [
    "## Scraping all the ratings"
   ]
  },
  {
   "cell_type": "code",
   "execution_count": 37,
   "metadata": {},
   "outputs": [
    {
     "name": "stdout",
     "output_type": "stream",
     "text": [
      "['Three', 'One', 'One', 'Four', 'Five', 'One', 'Four', 'Three', 'Four', 'One', 'Two', 'Four', 'Five', 'Five', 'Five', 'Three', 'One', 'One', 'Two', 'Two']\n"
     ]
    }
   ],
   "source": [
    "# k will contain the class(we can print(k) to see what is inside,\n",
    "# v is going to contain a list like ['star-rating', 'Two'], we use v[1] to get the second item which is the actual ratings)\n",
    "\n",
    "for i in soup.findAll('p', class_='star-rating'):\n",
    "    for k, v in i.attrs.items():\n",
    "        rating_star = v[1]\n",
    "        ratings.append(rating_star)\n",
    "\n",
    "print(ratings)"
   ]
  },
  {
   "cell_type": "markdown",
   "metadata": {},
   "source": [
    "## Scraping all the images"
   ]
  },
  {
   "cell_type": "code",
   "execution_count": 44,
   "metadata": {},
   "outputs": [
    {
     "name": "stdout",
     "output_type": "stream",
     "text": [
      "['http://books.toscrape.com/media/cache/2c/da/2cdad67c44b002e7ead0cc35693c0e8b.jpg', 'http://books.toscrape.com/media/cache/26/0c/260c6ae16bce31c8f8c95daddd9f4a1c.jpg', 'http://books.toscrape.com/media/cache/3e/ef/3eef99c9d9adef34639f510662022830.jpg', 'http://books.toscrape.com/media/cache/32/51/3251cf3a3412f53f339e42cac2134093.jpg', 'http://books.toscrape.com/media/cache/be/a5/bea5697f2534a2f86a3ef27b5a8c12a6.jpg', 'http://books.toscrape.com/media/cache/68/33/68339b4c9bc034267e1da611ab3b34f8.jpg', 'http://books.toscrape.com/media/cache/92/27/92274a95b7c251fea59a2b8a78275ab4.jpg', 'http://books.toscrape.com/media/cache/3d/54/3d54940e57e662c4dd1f3ff00c78cc64.jpg', 'http://books.toscrape.com/media/cache/66/88/66883b91f6804b2323c8369331cb7dd1.jpg', 'http://books.toscrape.com/media/cache/58/46/5846057e28022268153beff6d352b06c.jpg', 'http://books.toscrape.com/media/cache/be/f4/bef44da28c98f905a3ebec0b87be8530.jpg', 'http://books.toscrape.com/media/cache/10/48/1048f63d3b5061cd2f424d20b3f9b666.jpg', 'http://books.toscrape.com/media/cache/5b/88/5b88c52633f53cacf162c15f4f823153.jpg', 'http://books.toscrape.com/media/cache/94/b1/94b1b8b244bce9677c2f29ccc890d4d2.jpg', 'http://books.toscrape.com/media/cache/81/c4/81c4a973364e17d01f217e1188253d5e.jpg', 'http://books.toscrape.com/media/cache/54/60/54607fe8945897cdcced0044103b10b6.jpg', 'http://books.toscrape.com/media/cache/55/33/553310a7162dfbc2c6d19a84da0df9e1.jpg', 'http://books.toscrape.com/media/cache/09/a3/09a3aef48557576e1a85ba7efea8ecb7.jpg', 'http://books.toscrape.com/media/cache/0b/bc/0bbcd0a6f4bcd81ccb1049a52736406e.jpg', 'http://books.toscrape.com/media/cache/27/a5/27a53d0bb95bdd88288eaf66c9230d7e.jpg']\n"
     ]
    }
   ],
   "source": [
    "divs = soup.findAll('div', class_='image_container')\n",
    "\n",
    "for i in divs:\n",
    "    tags = i.find('img', class_='thumbnail')\n",
    "    links = 'http://books.toscrape.com/' + str(tags['src'])\n",
    "    right_links = links.replace('../', '')\n",
    "    urls.append(right_links)\n",
    "\n",
    "print(urls)"
   ]
  },
  {
   "cell_type": "markdown",
   "metadata": {},
   "source": [
    "## **Data Processing on Scraped Data**"
   ]
  },
  {
   "cell_type": "code",
   "execution_count": 47,
   "metadata": {},
   "outputs": [],
   "source": [
    "data = {\n",
    "        'Title': title,\n",
    "        'Prices': prices,\n",
    "        'Ratings': ratings,\n",
    "        'URLs': urls\n",
    "        }      "
   ]
  },
  {
   "cell_type": "code",
   "execution_count": 48,
   "metadata": {},
   "outputs": [
    {
     "data": {
      "text/plain": [
       "{'Title': ['A Light in the ...',\n",
       "  'Tipping the Velvet',\n",
       "  'Soumission',\n",
       "  'Sharp Objects',\n",
       "  'Sapiens: A Brief History ...',\n",
       "  'The Requiem Red',\n",
       "  'The Dirty Little Secrets ...',\n",
       "  'The Coming Woman: A ...',\n",
       "  'The Boys in the ...',\n",
       "  'The Black Maria',\n",
       "  'Starving Hearts (Triangular Trade ...',\n",
       "  \"Shakespeare's Sonnets\",\n",
       "  'Set Me Free',\n",
       "  \"Scott Pilgrim's Precious Little ...\",\n",
       "  'Rip it Up and ...',\n",
       "  'Our Band Could Be ...',\n",
       "  'Olio',\n",
       "  'Mesaerion: The Best Science ...',\n",
       "  'Libertarianism for Beginners',\n",
       "  \"It's Only the Himalayas\"],\n",
       " 'Prices': ['Â£51.77',\n",
       "  'Â£53.74',\n",
       "  'Â£50.10',\n",
       "  'Â£47.82',\n",
       "  'Â£54.23',\n",
       "  'Â£22.65',\n",
       "  'Â£33.34',\n",
       "  'Â£17.93',\n",
       "  'Â£22.60',\n",
       "  'Â£52.15',\n",
       "  'Â£13.99',\n",
       "  'Â£20.66',\n",
       "  'Â£17.46',\n",
       "  'Â£52.29',\n",
       "  'Â£35.02',\n",
       "  'Â£57.25',\n",
       "  'Â£23.88',\n",
       "  'Â£37.59',\n",
       "  'Â£51.33',\n",
       "  'Â£45.17'],\n",
       " 'Ratings': ['Three',\n",
       "  'One',\n",
       "  'One',\n",
       "  'Four',\n",
       "  'Five',\n",
       "  'One',\n",
       "  'Four',\n",
       "  'Three',\n",
       "  'Four',\n",
       "  'One',\n",
       "  'Two',\n",
       "  'Four',\n",
       "  'Five',\n",
       "  'Five',\n",
       "  'Five',\n",
       "  'Three',\n",
       "  'One',\n",
       "  'One',\n",
       "  'Two',\n",
       "  'Two'],\n",
       " 'URLs': ['http://books.toscrape.com/media/cache/2c/da/2cdad67c44b002e7ead0cc35693c0e8b.jpg',\n",
       "  'http://books.toscrape.com/media/cache/26/0c/260c6ae16bce31c8f8c95daddd9f4a1c.jpg',\n",
       "  'http://books.toscrape.com/media/cache/3e/ef/3eef99c9d9adef34639f510662022830.jpg',\n",
       "  'http://books.toscrape.com/media/cache/32/51/3251cf3a3412f53f339e42cac2134093.jpg',\n",
       "  'http://books.toscrape.com/media/cache/be/a5/bea5697f2534a2f86a3ef27b5a8c12a6.jpg',\n",
       "  'http://books.toscrape.com/media/cache/68/33/68339b4c9bc034267e1da611ab3b34f8.jpg',\n",
       "  'http://books.toscrape.com/media/cache/92/27/92274a95b7c251fea59a2b8a78275ab4.jpg',\n",
       "  'http://books.toscrape.com/media/cache/3d/54/3d54940e57e662c4dd1f3ff00c78cc64.jpg',\n",
       "  'http://books.toscrape.com/media/cache/66/88/66883b91f6804b2323c8369331cb7dd1.jpg',\n",
       "  'http://books.toscrape.com/media/cache/58/46/5846057e28022268153beff6d352b06c.jpg',\n",
       "  'http://books.toscrape.com/media/cache/be/f4/bef44da28c98f905a3ebec0b87be8530.jpg',\n",
       "  'http://books.toscrape.com/media/cache/10/48/1048f63d3b5061cd2f424d20b3f9b666.jpg',\n",
       "  'http://books.toscrape.com/media/cache/5b/88/5b88c52633f53cacf162c15f4f823153.jpg',\n",
       "  'http://books.toscrape.com/media/cache/94/b1/94b1b8b244bce9677c2f29ccc890d4d2.jpg',\n",
       "  'http://books.toscrape.com/media/cache/81/c4/81c4a973364e17d01f217e1188253d5e.jpg',\n",
       "  'http://books.toscrape.com/media/cache/54/60/54607fe8945897cdcced0044103b10b6.jpg',\n",
       "  'http://books.toscrape.com/media/cache/55/33/553310a7162dfbc2c6d19a84da0df9e1.jpg',\n",
       "  'http://books.toscrape.com/media/cache/09/a3/09a3aef48557576e1a85ba7efea8ecb7.jpg',\n",
       "  'http://books.toscrape.com/media/cache/0b/bc/0bbcd0a6f4bcd81ccb1049a52736406e.jpg',\n",
       "  'http://books.toscrape.com/media/cache/27/a5/27a53d0bb95bdd88288eaf66c9230d7e.jpg']}"
      ]
     },
     "execution_count": 48,
     "metadata": {},
     "output_type": "execute_result"
    }
   ],
   "source": [
    "data"
   ]
  },
  {
   "cell_type": "code",
   "execution_count": 49,
   "metadata": {},
   "outputs": [
    {
     "name": "stdout",
     "output_type": "stream",
     "text": [
      "20\n",
      "20\n",
      "20\n",
      "20\n"
     ]
    }
   ],
   "source": [
    "print(len(title))\n",
    "print(len(prices))\n",
    "print(len(ratings))\n",
    "print(len(urls))"
   ]
  },
  {
   "cell_type": "code",
   "execution_count": 50,
   "metadata": {},
   "outputs": [
    {
     "name": "stdout",
     "output_type": "stream",
     "text": [
      "(20, 4)\n"
     ]
    },
    {
     "data": {
      "text/html": [
       "<div>\n",
       "<style scoped>\n",
       "    .dataframe tbody tr th:only-of-type {\n",
       "        vertical-align: middle;\n",
       "    }\n",
       "\n",
       "    .dataframe tbody tr th {\n",
       "        vertical-align: top;\n",
       "    }\n",
       "\n",
       "    .dataframe thead th {\n",
       "        text-align: right;\n",
       "    }\n",
       "</style>\n",
       "<table border=\"1\" class=\"dataframe\">\n",
       "  <thead>\n",
       "    <tr style=\"text-align: right;\">\n",
       "      <th></th>\n",
       "      <th>Title</th>\n",
       "      <th>Prices</th>\n",
       "      <th>Ratings</th>\n",
       "      <th>URLs</th>\n",
       "    </tr>\n",
       "  </thead>\n",
       "  <tbody>\n",
       "    <tr>\n",
       "      <th>0</th>\n",
       "      <td>A Light in the ...</td>\n",
       "      <td>Â£51.77</td>\n",
       "      <td>Three</td>\n",
       "      <td>http://books.toscrape.com/media/cache/2c/da/2c...</td>\n",
       "    </tr>\n",
       "    <tr>\n",
       "      <th>1</th>\n",
       "      <td>Tipping the Velvet</td>\n",
       "      <td>Â£53.74</td>\n",
       "      <td>One</td>\n",
       "      <td>http://books.toscrape.com/media/cache/26/0c/26...</td>\n",
       "    </tr>\n",
       "    <tr>\n",
       "      <th>2</th>\n",
       "      <td>Soumission</td>\n",
       "      <td>Â£50.10</td>\n",
       "      <td>One</td>\n",
       "      <td>http://books.toscrape.com/media/cache/3e/ef/3e...</td>\n",
       "    </tr>\n",
       "    <tr>\n",
       "      <th>3</th>\n",
       "      <td>Sharp Objects</td>\n",
       "      <td>Â£47.82</td>\n",
       "      <td>Four</td>\n",
       "      <td>http://books.toscrape.com/media/cache/32/51/32...</td>\n",
       "    </tr>\n",
       "    <tr>\n",
       "      <th>4</th>\n",
       "      <td>Sapiens: A Brief History ...</td>\n",
       "      <td>Â£54.23</td>\n",
       "      <td>Five</td>\n",
       "      <td>http://books.toscrape.com/media/cache/be/a5/be...</td>\n",
       "    </tr>\n",
       "  </tbody>\n",
       "</table>\n",
       "</div>"
      ],
      "text/plain": [
       "                          Title   Prices Ratings  \\\n",
       "0            A Light in the ...  Â£51.77   Three   \n",
       "1            Tipping the Velvet  Â£53.74     One   \n",
       "2                    Soumission  Â£50.10     One   \n",
       "3                 Sharp Objects  Â£47.82    Four   \n",
       "4  Sapiens: A Brief History ...  Â£54.23    Five   \n",
       "\n",
       "                                                URLs  \n",
       "0  http://books.toscrape.com/media/cache/2c/da/2c...  \n",
       "1  http://books.toscrape.com/media/cache/26/0c/26...  \n",
       "2  http://books.toscrape.com/media/cache/3e/ef/3e...  \n",
       "3  http://books.toscrape.com/media/cache/32/51/32...  \n",
       "4  http://books.toscrape.com/media/cache/be/a5/be...  "
      ]
     },
     "execution_count": 50,
     "metadata": {},
     "output_type": "execute_result"
    }
   ],
   "source": [
    "df = pd.DataFrame(data)\n",
    "print(df.shape)\n",
    "df.head()"
   ]
  },
  {
   "cell_type": "code",
   "execution_count": 51,
   "metadata": {},
   "outputs": [
    {
     "data": {
      "text/html": [
       "<div>\n",
       "<style scoped>\n",
       "    .dataframe tbody tr th:only-of-type {\n",
       "        vertical-align: middle;\n",
       "    }\n",
       "\n",
       "    .dataframe tbody tr th {\n",
       "        vertical-align: top;\n",
       "    }\n",
       "\n",
       "    .dataframe thead th {\n",
       "        text-align: right;\n",
       "    }\n",
       "</style>\n",
       "<table border=\"1\" class=\"dataframe\">\n",
       "  <thead>\n",
       "    <tr style=\"text-align: right;\">\n",
       "      <th></th>\n",
       "      <th>Title</th>\n",
       "      <th>Prices</th>\n",
       "      <th>Ratings</th>\n",
       "      <th>URLs</th>\n",
       "    </tr>\n",
       "  </thead>\n",
       "  <tbody>\n",
       "    <tr>\n",
       "      <th>1</th>\n",
       "      <td>A Light in the ...</td>\n",
       "      <td>Â£51.77</td>\n",
       "      <td>Three</td>\n",
       "      <td>http://books.toscrape.com/media/cache/2c/da/2c...</td>\n",
       "    </tr>\n",
       "    <tr>\n",
       "      <th>2</th>\n",
       "      <td>Tipping the Velvet</td>\n",
       "      <td>Â£53.74</td>\n",
       "      <td>One</td>\n",
       "      <td>http://books.toscrape.com/media/cache/26/0c/26...</td>\n",
       "    </tr>\n",
       "    <tr>\n",
       "      <th>3</th>\n",
       "      <td>Soumission</td>\n",
       "      <td>Â£50.10</td>\n",
       "      <td>One</td>\n",
       "      <td>http://books.toscrape.com/media/cache/3e/ef/3e...</td>\n",
       "    </tr>\n",
       "    <tr>\n",
       "      <th>4</th>\n",
       "      <td>Sharp Objects</td>\n",
       "      <td>Â£47.82</td>\n",
       "      <td>Four</td>\n",
       "      <td>http://books.toscrape.com/media/cache/32/51/32...</td>\n",
       "    </tr>\n",
       "    <tr>\n",
       "      <th>5</th>\n",
       "      <td>Sapiens: A Brief History ...</td>\n",
       "      <td>Â£54.23</td>\n",
       "      <td>Five</td>\n",
       "      <td>http://books.toscrape.com/media/cache/be/a5/be...</td>\n",
       "    </tr>\n",
       "  </tbody>\n",
       "</table>\n",
       "</div>"
      ],
      "text/plain": [
       "                          Title   Prices Ratings  \\\n",
       "1            A Light in the ...  Â£51.77   Three   \n",
       "2            Tipping the Velvet  Â£53.74     One   \n",
       "3                    Soumission  Â£50.10     One   \n",
       "4                 Sharp Objects  Â£47.82    Four   \n",
       "5  Sapiens: A Brief History ...  Â£54.23    Five   \n",
       "\n",
       "                                                URLs  \n",
       "1  http://books.toscrape.com/media/cache/2c/da/2c...  \n",
       "2  http://books.toscrape.com/media/cache/26/0c/26...  \n",
       "3  http://books.toscrape.com/media/cache/3e/ef/3e...  \n",
       "4  http://books.toscrape.com/media/cache/32/51/32...  \n",
       "5  http://books.toscrape.com/media/cache/be/a5/be...  "
      ]
     },
     "execution_count": 51,
     "metadata": {},
     "output_type": "execute_result"
    }
   ],
   "source": [
    "# Changing the index to start with one\n",
    "\n",
    "df.index+=1\n",
    "df.head()"
   ]
  },
  {
   "cell_type": "code",
   "execution_count": 53,
   "metadata": {},
   "outputs": [
    {
     "data": {
      "text/html": [
       "<div>\n",
       "<style scoped>\n",
       "    .dataframe tbody tr th:only-of-type {\n",
       "        vertical-align: middle;\n",
       "    }\n",
       "\n",
       "    .dataframe tbody tr th {\n",
       "        vertical-align: top;\n",
       "    }\n",
       "\n",
       "    .dataframe thead th {\n",
       "        text-align: right;\n",
       "    }\n",
       "</style>\n",
       "<table border=\"1\" class=\"dataframe\">\n",
       "  <thead>\n",
       "    <tr style=\"text-align: right;\">\n",
       "      <th></th>\n",
       "      <th>Title</th>\n",
       "      <th>Prices</th>\n",
       "      <th>Ratings</th>\n",
       "      <th>URLs</th>\n",
       "    </tr>\n",
       "  </thead>\n",
       "  <tbody>\n",
       "    <tr>\n",
       "      <th>1</th>\n",
       "      <td>A Light in the ...</td>\n",
       "      <td>51.77</td>\n",
       "      <td>Three</td>\n",
       "      <td>http://books.toscrape.com/media/cache/2c/da/2c...</td>\n",
       "    </tr>\n",
       "    <tr>\n",
       "      <th>2</th>\n",
       "      <td>Tipping the Velvet</td>\n",
       "      <td>53.74</td>\n",
       "      <td>One</td>\n",
       "      <td>http://books.toscrape.com/media/cache/26/0c/26...</td>\n",
       "    </tr>\n",
       "    <tr>\n",
       "      <th>3</th>\n",
       "      <td>Soumission</td>\n",
       "      <td>50.10</td>\n",
       "      <td>One</td>\n",
       "      <td>http://books.toscrape.com/media/cache/3e/ef/3e...</td>\n",
       "    </tr>\n",
       "    <tr>\n",
       "      <th>4</th>\n",
       "      <td>Sharp Objects</td>\n",
       "      <td>47.82</td>\n",
       "      <td>Four</td>\n",
       "      <td>http://books.toscrape.com/media/cache/32/51/32...</td>\n",
       "    </tr>\n",
       "    <tr>\n",
       "      <th>5</th>\n",
       "      <td>Sapiens: A Brief History ...</td>\n",
       "      <td>54.23</td>\n",
       "      <td>Five</td>\n",
       "      <td>http://books.toscrape.com/media/cache/be/a5/be...</td>\n",
       "    </tr>\n",
       "  </tbody>\n",
       "</table>\n",
       "</div>"
      ],
      "text/plain": [
       "                          Title Prices Ratings  \\\n",
       "1            A Light in the ...  51.77   Three   \n",
       "2            Tipping the Velvet  53.74     One   \n",
       "3                    Soumission  50.10     One   \n",
       "4                 Sharp Objects  47.82    Four   \n",
       "5  Sapiens: A Brief History ...  54.23    Five   \n",
       "\n",
       "                                                URLs  \n",
       "1  http://books.toscrape.com/media/cache/2c/da/2c...  \n",
       "2  http://books.toscrape.com/media/cache/26/0c/26...  \n",
       "3  http://books.toscrape.com/media/cache/3e/ef/3e...  \n",
       "4  http://books.toscrape.com/media/cache/32/51/32...  \n",
       "5  http://books.toscrape.com/media/cache/be/a5/be...  "
      ]
     },
     "execution_count": 53,
     "metadata": {},
     "output_type": "execute_result"
    }
   ],
   "source": [
    "# Correcting the price\n",
    "\n",
    "df['Prices'] = df['Prices'].str.replace('Â£', '')\n",
    "df.head()"
   ]
  },
  {
   "cell_type": "code",
   "execution_count": 54,
   "metadata": {},
   "outputs": [
    {
     "name": "stdout",
     "output_type": "stream",
     "text": [
      "<class 'pandas.core.frame.DataFrame'>\n",
      "RangeIndex: 20 entries, 1 to 20\n",
      "Data columns (total 4 columns):\n",
      " #   Column   Non-Null Count  Dtype \n",
      "---  ------   --------------  ----- \n",
      " 0   Title    20 non-null     object\n",
      " 1   Prices   20 non-null     object\n",
      " 2   Ratings  20 non-null     object\n",
      " 3   URLs     20 non-null     object\n",
      "dtypes: object(4)\n",
      "memory usage: 772.0+ bytes\n"
     ]
    }
   ],
   "source": [
    "df.info()"
   ]
  },
  {
   "cell_type": "code",
   "execution_count": 58,
   "metadata": {},
   "outputs": [],
   "source": [
    "df['Prices'] = df['Prices'].astype(float)"
   ]
  },
  {
   "cell_type": "code",
   "execution_count": 59,
   "metadata": {},
   "outputs": [
    {
     "name": "stdout",
     "output_type": "stream",
     "text": [
      "<class 'pandas.core.frame.DataFrame'>\n",
      "RangeIndex: 20 entries, 1 to 20\n",
      "Data columns (total 4 columns):\n",
      " #   Column   Non-Null Count  Dtype  \n",
      "---  ------   --------------  -----  \n",
      " 0   Title    20 non-null     object \n",
      " 1   Prices   20 non-null     float64\n",
      " 2   Ratings  20 non-null     object \n",
      " 3   URLs     20 non-null     object \n",
      "dtypes: float64(1), object(3)\n",
      "memory usage: 772.0+ bytes\n"
     ]
    }
   ],
   "source": [
    "df.info()"
   ]
  },
  {
   "cell_type": "code",
   "execution_count": 60,
   "metadata": {},
   "outputs": [
    {
     "data": {
      "text/plain": [
       "1    6\n",
       "4    4\n",
       "5    4\n",
       "3    3\n",
       "2    3\n",
       "Name: Ratings, dtype: int64"
      ]
     },
     "execution_count": 60,
     "metadata": {},
     "output_type": "execute_result"
    }
   ],
   "source": [
    "df['Ratings'] = df['Ratings'].replace({'One': 1,\n",
    "                                       'Two': 2,\n",
    "                                       'Three': 3,\n",
    "                                       'Four': 4,\n",
    "                                       'Five': 5\n",
    "                                       })\n",
    "\n",
    "df['Ratings'].value_counts()"
   ]
  },
  {
   "cell_type": "code",
   "execution_count": 61,
   "metadata": {},
   "outputs": [
    {
     "name": "stdout",
     "output_type": "stream",
     "text": [
      "<class 'pandas.core.frame.DataFrame'>\n",
      "RangeIndex: 20 entries, 1 to 20\n",
      "Data columns (total 4 columns):\n",
      " #   Column   Non-Null Count  Dtype  \n",
      "---  ------   --------------  -----  \n",
      " 0   Title    20 non-null     object \n",
      " 1   Prices   20 non-null     float64\n",
      " 2   Ratings  20 non-null     int32  \n",
      " 3   URLs     20 non-null     object \n",
      "dtypes: float64(1), int32(1), object(2)\n",
      "memory usage: 692.0+ bytes\n"
     ]
    }
   ],
   "source": [
    "df['Ratings'] = df['Ratings'].astype(int)\n",
    "df.info()"
   ]
  },
  {
   "cell_type": "code",
   "execution_count": 62,
   "metadata": {},
   "outputs": [
    {
     "data": {
      "text/html": [
       "<div>\n",
       "<style scoped>\n",
       "    .dataframe tbody tr th:only-of-type {\n",
       "        vertical-align: middle;\n",
       "    }\n",
       "\n",
       "    .dataframe tbody tr th {\n",
       "        vertical-align: top;\n",
       "    }\n",
       "\n",
       "    .dataframe thead th {\n",
       "        text-align: right;\n",
       "    }\n",
       "</style>\n",
       "<table border=\"1\" class=\"dataframe\">\n",
       "  <thead>\n",
       "    <tr style=\"text-align: right;\">\n",
       "      <th></th>\n",
       "      <th>Prices</th>\n",
       "      <th>Ratings</th>\n",
       "    </tr>\n",
       "  </thead>\n",
       "  <tbody>\n",
       "    <tr>\n",
       "      <th>Prices</th>\n",
       "      <td>1.000000</td>\n",
       "      <td>-0.075857</td>\n",
       "    </tr>\n",
       "    <tr>\n",
       "      <th>Ratings</th>\n",
       "      <td>-0.075857</td>\n",
       "      <td>1.000000</td>\n",
       "    </tr>\n",
       "  </tbody>\n",
       "</table>\n",
       "</div>"
      ],
      "text/plain": [
       "           Prices   Ratings\n",
       "Prices   1.000000 -0.075857\n",
       "Ratings -0.075857  1.000000"
      ]
     },
     "execution_count": 62,
     "metadata": {},
     "output_type": "execute_result"
    }
   ],
   "source": [
    "df.corr()"
   ]
  }
 ],
 "metadata": {
  "kernelspec": {
   "display_name": "Python 3.9.12 ('base')",
   "language": "python",
   "name": "python3"
  },
  "language_info": {
   "codemirror_mode": {
    "name": "ipython",
    "version": 3
   },
   "file_extension": ".py",
   "mimetype": "text/x-python",
   "name": "python",
   "nbconvert_exporter": "python",
   "pygments_lexer": "ipython3",
   "version": "3.9.12"
  },
  "orig_nbformat": 4,
  "vscode": {
   "interpreter": {
    "hash": "ad2bdc8ecc057115af97d19610ffacc2b4e99fae6737bb82f5d7fb13d2f2c186"
   }
  }
 },
 "nbformat": 4,
 "nbformat_minor": 2
}
